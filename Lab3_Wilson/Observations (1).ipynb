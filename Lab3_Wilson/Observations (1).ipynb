{
    "metadata": {
        "kernelspec": {
            "name": "python3",
            "display_name": "Python 3 (ipykernel)",
            "language": "python"
        }
    },
    "nbformat": 4,
    "nbformat_minor": 2,
    "cells": [
        {
            "attachments": {},
            "cell_type": "markdown",
            "metadata": {},
            "source": [
                "**In the example(s) that you run, what did you learn about how entropy helps us understand data? In your answer, use results that you got from running your code**"
            ]
        },
        {
            "attachments": {},
            "cell_type": "markdown",
            "metadata": {},
            "source": [
                "Entropy helps evaluate the uncertainty in the data, and a high entropy usually correlates to unbiased data. In the ran example (supervised learning), it was learned that the model of music preference and gender had an average accuracy of 0.858 and a normalized max entropy of 0.672. This moderate entropy gives some evidence that data in unbiased."
            ]
        },
        {
            "attachments": {},
            "cell_type": "markdown",
            "metadata": {},
            "source": [
                "**What was the hardest part of the session?**\n",
                ""
            ]
        },
        {
            "attachments": {},
            "cell_type": "markdown",
            "metadata": {},
            "source": [
                "The hardest part of the session was in understanding the significance of the entropy. I can generally understand higher entropy being better, but a relative value would be helpful to confirm."
            ]
        },
        {
            "attachments": {},
            "cell_type": "markdown",
            "metadata": {},
            "source": [
                ""
            ]
        },
        {
            "attachments": {},
            "cell_type": "markdown",
            "metadata": {},
            "source": [
                ""
            ]
        },
        {
            "attachments": {},
            "cell_type": "markdown",
            "metadata": {},
            "source": [
                "**Please post a link to your public github repo**"
            ]
        },
        {
            "attachments": {},
            "cell_type": "markdown",
            "metadata": {},
            "source": [
                "https://github.com/KaylubW02/DiscoverAI_Projects_Group4\n",
                ""
            ]
        }
    ]
}
